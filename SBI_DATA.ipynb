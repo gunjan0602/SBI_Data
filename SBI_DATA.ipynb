{
 "cells": [
  {
   "cell_type": "code",
   "execution_count": 13,
   "id": "8ad21134-470e-4eab-8726-16010cfbc95e",
   "metadata": {},
   "outputs": [
    {
     "name": "stdout",
     "output_type": "stream",
     "text": [
      "           Date    Open    High     Low   Close  Volume      Time  Rank\n",
      "0    2024-01-01  642.20  642.70  641.00  641.95   89481  09:15:00     1\n",
      "1    2024-01-01  641.95  642.85  641.95  642.45   48965  09:16:00     1\n",
      "2    2024-01-01  642.70  644.00  642.70  643.50   65729  09:17:00     1\n",
      "3    2024-01-01  643.90  644.55  643.30  643.40   47909  09:18:00     1\n",
      "4    2024-01-01  643.70  644.10  643.45  643.75   27645  09:19:00     1\n",
      "...         ...     ...     ...     ...     ...     ...       ...   ...\n",
      "8245 2024-01-31  642.90  642.90  642.50  642.80  161605  15:25:00     2\n",
      "8246 2024-01-31  642.90  642.95  642.50  642.90  143774  15:26:00     2\n",
      "8247 2024-01-31  642.95  643.05  642.45  642.50  166278  15:27:00     1\n",
      "8248 2024-01-31  642.50  642.65  641.40  641.70  138018  15:28:00     2\n",
      "8249 2024-01-31  641.70  641.80  641.00  641.55   54342  15:29:00     2\n",
      "\n",
      "[8250 rows x 8 columns]\n"
     ]
    }
   ],
   "source": [
    "import pandas as pd\n",
    "\n",
    "try:\n",
    "    # Read the data from the CSV file\n",
    "    df = pd.read_csv(\"SBIN_Data.csv\")\n",
    "\n",
    "    # Convert the 'Time' column to datetime format\n",
    "    df['Time'] = pd.to_datetime(df['Time'], format='%H:%M:%S').dt.time\n",
    "\n",
    "    # Convert the 'Date' column to datetime format\n",
    "    df['Date'] = pd.to_datetime(df['Date'], format='%d-%m-%Y')\n",
    "\n",
    "    # Define a function to calculate the rank of volume\n",
    "    def calculate_volume_rank(row):\n",
    "        current_date = row['Date']\n",
    "        current_time = row['Time']\n",
    "        five_working_days_ago = current_date - pd.offsets.BDay(5)\n",
    "        relevant_data = df[(df['Date'] >= five_working_days_ago) & \n",
    "                           (df['Date'] < current_date) & \n",
    "                           (df['Time'] == current_time)]\n",
    "        rank = (relevant_data['Volume'] > row['Volume']).sum() + 1\n",
    "        return rank\n",
    "\n",
    "    # Add a new column 'Rank' to the DataFrame with the calculated volume ranks\n",
    "    df['Rank'] = df.apply(calculate_volume_rank, axis=1)\n",
    "\n",
    "    # Display the DataFrame with the added rank column\n",
    "    print(df)\n",
    "\n",
    "except FileNotFoundError:\n",
    "    print(\"Error: File 'SBIN_Data.csv' not found. Please make sure the file exists in the current directory.\")\n",
    "except Exception as e:\n",
    "    print(\"An error occurred:\", e)\n"
   ]
  },
  {
   "cell_type": "code",
   "execution_count": 14,
   "id": "5e8827ba-3e3e-4bff-9eca-6c31b5db3d2c",
   "metadata": {},
   "outputs": [
    {
     "name": "stdout",
     "output_type": "stream",
     "text": [
      "Rank column has been added to SBIN_Data.csv.\n"
     ]
    }
   ],
   "source": [
    "import pandas as pd\n",
    "\n",
    "try:\n",
    "    # Read the data from the CSV file\n",
    "    df = pd.read_csv(\"SBIN_Data.csv\")\n",
    "\n",
    "    # Convert the 'Time' column to datetime format\n",
    "    df['Time'] = pd.to_datetime(df['Time'], format='%H:%M:%S').dt.time\n",
    "\n",
    "    # Convert the 'Date' column to datetime format\n",
    "    df['Date'] = pd.to_datetime(df['Date'], format='%d-%m-%Y')\n",
    "\n",
    "    # Define a function to calculate the rank of volume\n",
    "    def calculate_volume_rank(row):\n",
    "        current_date = row['Date']\n",
    "        current_time = row['Time']\n",
    "        five_working_days_ago = current_date - pd.offsets.BDay(5)\n",
    "        relevant_data = df[(df['Date'] >= five_working_days_ago) & \n",
    "                           (df['Date'] < current_date) & \n",
    "                           (df['Time'] == current_time)]\n",
    "        rank = (relevant_data['Volume'] > row['Volume']).sum() + 1\n",
    "        return rank\n",
    "\n",
    "    # Add a new column 'Rank' to the DataFrame with the calculated volume ranks\n",
    "    df['Rank'] = df.apply(calculate_volume_rank, axis=1)\n",
    "\n",
    "    # Save the DataFrame back to the CSV file with the added 'Rank' column\n",
    "    df.to_csv(\"SBIN_Data.csv\", index=False)\n",
    "\n",
    "    print(\"Rank column has been added to SBIN_Data.csv.\")\n",
    "\n",
    "except FileNotFoundError:\n",
    "    print(\"Error: File 'SBIN_Data.csv' not found. Please make sure the file exists in the current directory.\")\n",
    "except Exception as e:\n",
    "    print(\"An error occurred:\", e)\n"
   ]
  },
  {
   "cell_type": "code",
   "execution_count": null,
   "id": "ca9852ba-977e-4995-a4c4-55cfae5a9bb7",
   "metadata": {},
   "outputs": [],
   "source": []
  }
 ],
 "metadata": {
  "kernelspec": {
   "display_name": "Python 3 (ipykernel)",
   "language": "python",
   "name": "python3"
  },
  "language_info": {
   "codemirror_mode": {
    "name": "ipython",
    "version": 3
   },
   "file_extension": ".py",
   "mimetype": "text/x-python",
   "name": "python",
   "nbconvert_exporter": "python",
   "pygments_lexer": "ipython3",
   "version": "3.11.7"
  }
 },
 "nbformat": 4,
 "nbformat_minor": 5
}
